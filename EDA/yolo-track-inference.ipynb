{
 "cells": [
  {
   "cell_type": "code",
   "execution_count": null,
   "metadata": {},
   "outputs": [],
   "source": [
    "import ultralytics\n",
    "\n",
    "# Load a pretrained YOLO model\n",
    "# model = ultralytics.YOLO(\"live-scooters-content/train/weights/best.pt\")\n",
    "model = ultralytics.YOLO(\"street-cams-content/train2/weights/best.pt\")\n",
    "# model = ultralytics.YOLO(\"ckpt/best_100.pt\")"
   ]
  },
  {
   "cell_type": "code",
   "execution_count": null,
   "metadata": {},
   "outputs": [],
   "source": [
    "# run inference on additional data\n",
    "from pathlib import Path"
   ]
  },
  {
   "cell_type": "code",
   "execution_count": null,
   "metadata": {},
   "outputs": [],
   "source": [
    "video_path = Path(\"./datasets/test-scooters/dataset_scooter/\") / \"27*\"\n",
    "# video_path = Path(\"./datasets/\") / \"kickvideo.mp4\""
   ]
  },
  {
   "cell_type": "code",
   "execution_count": null,
   "metadata": {},
   "outputs": [],
   "source": [
    "for result in model.track(\n",
    "    video_path,\n",
    "    save=False,\n",
    "    stream=True,\n",
    "    persist=True,\n",
    "    visualize=False,\n",
    "    save_frames=True,\n",
    "    imgsz=640,\n",
    "    device=\"0\",\n",
    "):\n",
    "    ..."
   ]
  }
 ],
 "metadata": {
  "kernelspec": {
   "display_name": "py311-cuda121",
   "language": "python",
   "name": "python3"
  },
  "language_info": {
   "codemirror_mode": {
    "name": "ipython",
    "version": 3
   },
   "file_extension": ".py",
   "mimetype": "text/x-python",
   "name": "python",
   "nbconvert_exporter": "python",
   "pygments_lexer": "ipython3",
   "version": "3.11.6"
  }
 },
 "nbformat": 4,
 "nbformat_minor": 2
}
