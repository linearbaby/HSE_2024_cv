{
 "cells": [
  {
   "cell_type": "code",
   "execution_count": 1,
   "metadata": {},
   "outputs": [],
   "source": [
    "from ultralytics.data import converter\n",
    "from pathlib import Path\n",
    "\n",
    "import cv2\n",
    "from rich import progress"
   ]
  },
  {
   "cell_type": "code",
   "execution_count": null,
   "metadata": {},
   "outputs": [],
   "source": [
    "converter.convert_coco(\n",
    "    \"datasets/surveillance-cam-scooters/annotations\",\n",
    "    save_dir=\"datasets/surveillance-cam-scooters-yolo\",\n",
    "    use_segments=False,\n",
    "    use_keypoints=False,\n",
    ")"
   ]
  },
  {
   "cell_type": "code",
   "execution_count": null,
   "metadata": {},
   "outputs": [],
   "source": [
    "# Set the target resolution\n",
    "target_size = (1280 // 2, 720 // 2)\n",
    "\n",
    "# Specify the directory containing the images\n",
    "image_dir = \"datasets/surveillance-cam-scooters/images\"\n",
    "files = tuple(Path(image_dir).iterdir())\n",
    "\n",
    "# Loop through each file in the directory\n",
    "for filename in progress.track(files, total=len(files)):\n",
    "    filename = str(filename.resolve())\n",
    "    image = cv2.imread(filename=filename)\n",
    "\n",
    "    resized_image = cv2.resize(image, target_size)\n",
    "    cv2.imwrite(filename, resized_image)\n",
    "\n",
    "    del image, resized_image"
   ]
  },
  {
   "cell_type": "code",
   "execution_count": 24,
   "metadata": {},
   "outputs": [],
   "source": [
    "ROOT = Path(\"datasets/surveillance-cam-scooters-yolo\")\n",
    "\n",
    "labels_dir = ROOT / \"labels\"\n",
    "train_labels_dir = labels_dir / \"train\"\n",
    "val_labels_dir = labels_dir / \"val\"\n",
    "\n",
    "train_images_dir = ROOT / \"images\" / \"train\"\n",
    "val_images_dir = ROOT / \"images\" / \"val\"\n",
    "\n",
    "for d in train_images_dir, val_images_dir:\n",
    "    d.mkdir(exist_ok=True, parents=True)"
   ]
  },
  {
   "cell_type": "code",
   "execution_count": 25,
   "metadata": {},
   "outputs": [],
   "source": [
    "for file in Path(\"datasets/surveillance-cam-scooters/images\").iterdir():\n",
    "    label_file = file.name.replace(\"PNG\", \"txt\")\n",
    "    if (train_labels_dir / label_file).is_file() and not (\n",
    "        train_images_dir / file.name\n",
    "    ).exists():\n",
    "        # this is train image\n",
    "        (train_images_dir / file.name).symlink_to(file.absolute())\n",
    "        continue\n",
    "\n",
    "    if (val_labels_dir / label_file).is_file() and not (\n",
    "        val_images_dir / file.name\n",
    "    ).exists():\n",
    "        # this is val image\n",
    "        (val_images_dir / file.name).symlink_to(file.absolute())\n",
    "        continue"
   ]
  }
 ],
 "metadata": {
  "kernelspec": {
   "display_name": "py311-cuda121",
   "language": "python",
   "name": "python3"
  },
  "language_info": {
   "codemirror_mode": {
    "name": "ipython",
    "version": 3
   },
   "file_extension": ".py",
   "mimetype": "text/x-python",
   "name": "python",
   "nbconvert_exporter": "python",
   "pygments_lexer": "ipython3",
   "version": "3.11.6"
  }
 },
 "nbformat": 4,
 "nbformat_minor": 2
}
